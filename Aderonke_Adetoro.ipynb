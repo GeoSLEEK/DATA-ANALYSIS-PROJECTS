{
 "cells": [
  {
   "cell_type": "markdown",
   "id": "fc95ed6c-e2d1-49a2-94d4-90e234bf8cbf",
   "metadata": {},
   "source": [
    "### Creating a Student Grade Management System"
   ]
  },
  {
   "cell_type": "code",
   "execution_count": 247,
   "id": "0bf0afde-7b1d-44ae-8ae5-73178fb00ff4",
   "metadata": {},
   "outputs": [],
   "source": [
    "### student data function definition\n",
    "def collect_student_data(): #system function creation\n",
    "    students = {} # initialising a dictionary to store collected student data\n",
    "    \n",
    "### collecting student data using while loop and user input\n",
    "    while True:\n",
    "        print (f\"Hello student, your Name and selected subject scores will be requested for and recorded\")\n",
    "        student_name = input(\"Enter your Surname and First name (or type completed to finish): \")\n",
    "        if student_name.lower() == \"completed\": # initialising an exit for the input function\n",
    "            break\n",
    "\n",
    "        try: # getting subject scores with validation\n",
    "            math_score = float(input(\"Enter your Math score: \"))\n",
    "            science_score = float(input(\"Enter your Science score: \"))\n",
    "            english_score = float(input(\"Enter your English score: \"))\n",
    "\n",
    "        except: # invalid input error handling\n",
    "            print(f\"Invalid input, please enter numerical values only for your subject scores\")\n",
    "            continue\n",
    "\n",
    "### calculating student average score across the three subjects using mathematical operators\n",
    "        total_score = (math_score + science_score + english_score)\n",
    "        average_score = total_score / 3\n",
    "\n",
    "### grade assignment based on student average score using conditional statement\n",
    "\n",
    "        if average_score >= 85:\n",
    "            grade = \"A\"\n",
    "        elif average_score >= 75:\n",
    "            grade = \"B\"\n",
    "        elif average_score >= 65:\n",
    "            grade = \"C\"\n",
    "        elif average_score >= 55:\n",
    "            grade = \"D\"\n",
    "        else:\n",
    "            grade = \"F\"\n",
    "\n",
    "### creating Student Data using a Dictionary\n",
    "        student_data = {\"Math\" : math_score,\n",
    "                        \"Science\" : science_score, \n",
    "                        \"English\" : english_score,\n",
    "                        \"Average Score\" : average_score,\n",
    "                        \"Final Grade\": grade,\n",
    "            \n",
    "                       }\n",
    "        students[student_name] = student_data  #updating the dictionary witha nested dictionary\n",
    "\n",
    "    return students\n"
   ]
  },
  {
   "cell_type": "code",
   "execution_count": 257,
   "id": "d1910e45-c3ee-4efa-8e0e-b82534ee51ab",
   "metadata": {},
   "outputs": [],
   "source": [
    "### displaying student data using function, and looping through student dictionary\n",
    "\n",
    "def display_data(students):\n",
    "    print (\"\\nDISPLAYING STUDENT DATA: \")\n",
    "    for student_name, data in students.items():\n",
    "        print (f\"{student_name}'s grade is: \")\n",
    "        for key, value in data.items():\n",
    "            print (f\"\\n\\t{key}: {value}\")"
   ]
  },
  {
   "cell_type": "code",
   "execution_count": 280,
   "id": "47cd7cbf-3d39-45f7-b63b-ffd92ffc949a",
   "metadata": {},
   "outputs": [
    {
     "name": "stdout",
     "output_type": "stream",
     "text": [
      "\n",
      " STUDENT DATA MANAGEMENT SYSTEM \n",
      "Enter 1 to enter Student Data \n",
      "\n",
      " Enter 2 to display Student Data \n",
      "\n",
      " Enter 3 to exit the system \n"
     ]
    },
    {
     "name": "stdin",
     "output_type": "stream",
     "text": [
      "Enter your choice between 1-3:  3\n"
     ]
    },
    {
     "name": "stdout",
     "output_type": "stream",
     "text": [
      "Exiting the Student Data Management System, Goodbye!!\n"
     ]
    }
   ],
   "source": [
    "### Creating a Menu driven interface for data collection and retrieval based on user's input/choice\n",
    "\n",
    "def menu_interface():  # function created\n",
    "    students = {}       # initialising student dictionary\n",
    "    while True:   # initialsing condition\n",
    "        \n",
    "        ### displaying messages to assist user's choice\n",
    "        print(\"\\n STUDENT DATA MANAGEMENT SYSTEM \")\n",
    "        print (\"Enter 1 to enter Student Data \")\n",
    "        print (\"\\n Enter 2 to display Student Data \")\n",
    "        print (\"\\n Enter 3 to exit the system \")\n",
    "        user_choice = input(\"Enter your choice between 1-3: \")\n",
    "\n",
    "        if user_choice == \"1\":\n",
    "            student_data = collect_student_data()  # function call\n",
    "            students.update(student_data)  # data updating in the student dictionary\n",
    "        elif user_choice == \"2\":\n",
    "            display_data(students)  # function call\n",
    "        elif user_choice == \"3\":\n",
    "            print (\"Exiting the Student Data Management System, Goodbye!!\") #program exit condition message\n",
    "            break\n",
    "        else:\n",
    "            print (\"Invalid choice, please enter a number between 1-3. \")\n",
    "        \n",
    "if __name__ == \"__main__\":       ### for direct script execution\n",
    "    menu_interface()       ###calling the function\n",
    "    "
   ]
  },
  {
   "cell_type": "code",
   "execution_count": null,
   "id": "62377d6d-afc4-4003-91db-8d64cb9a3512",
   "metadata": {},
   "outputs": [],
   "source": []
  }
 ],
 "metadata": {
  "kernelspec": {
   "display_name": "Python 3 (ipykernel)",
   "language": "python",
   "name": "python3"
  },
  "language_info": {
   "codemirror_mode": {
    "name": "ipython",
    "version": 3
   },
   "file_extension": ".py",
   "mimetype": "text/x-python",
   "name": "python",
   "nbconvert_exporter": "python",
   "pygments_lexer": "ipython3",
   "version": "3.12.4"
  }
 },
 "nbformat": 4,
 "nbformat_minor": 5
}
